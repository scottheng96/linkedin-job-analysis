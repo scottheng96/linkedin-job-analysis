{
 "cells": [
  {
   "cell_type": "code",
   "execution_count": 12,
   "id": "interim-matter",
   "metadata": {},
   "outputs": [],
   "source": [
    "from selenium import webdriver\n",
    "from bs4 import BeautifulSoup"
   ]
  },
  {
   "cell_type": "code",
   "execution_count": 45,
   "id": "numerous-manor",
   "metadata": {},
   "outputs": [],
   "source": [
    "chrome_driver_path = '/Users/scottheng/Projects/linkedin-job-analysis/chromedriver'\n",
    "\n",
    "sf_swe_jobs_url = 'https://www.linkedin.com/jobs/software-engineering-jobs-san-francisco-bay-area/?geoId=90000084'\n",
    "\n",
    "# remove this\n",
    "linkedin_username = 'USERNAME HERE'\n",
    "linkedin_password = 'PASSWORD HERE'"
   ]
  },
  {
   "cell_type": "code",
   "execution_count": 46,
   "id": "racial-sleeve",
   "metadata": {},
   "outputs": [],
   "source": [
    "# initialize driver\n",
    "driver = webdriver.Chrome(chrome_driver_path)\n",
    "\n",
    "# connect to linkedin\n",
    "driver.get('https://www.linkedin.com')"
   ]
  },
  {
   "cell_type": "code",
   "execution_count": 47,
   "id": "interim-rebel",
   "metadata": {},
   "outputs": [],
   "source": [
    "elementID = driver.find_element_by_id('session_key')\n",
    "elementID.send_keys(linkedin_username)\n",
    "elementID = driver.find_element_by_id('session_password')\n",
    "elementID.send_keys(linkedin_password)\n",
    "\n",
    "elementID.submit()"
   ]
  },
  {
   "cell_type": "code",
   "execution_count": 48,
   "id": "63db6b2b",
   "metadata": {},
   "outputs": [],
   "source": [
    "driver.get(sf_swe_jobs_url)"
   ]
  },
  {
   "cell_type": "code",
   "execution_count": 55,
   "id": "e1838cb5",
   "metadata": {},
   "outputs": [],
   "source": [
    "# get all jobIds\n",
    "jobSearchResults = driver.find_elements_by_class_name('jobs-search-results__list-item')\n",
    "jobIdList = []\n",
    "\n",
    "for result in jobSearchResults:\n",
    "    attribute = result.get_attribute('data-occludable-entity-urn')\n",
    "    attribute = attribute.split(':')\n",
    "    jobIdList.append(attribute[-1])"
   ]
  },
  {
   "cell_type": "code",
   "execution_count": 57,
   "id": "d90a2a4d",
   "metadata": {},
   "outputs": [],
   "source": [
    "# make jobId URLs\n",
    "linkedin_url_prefix = 'https://www.linkedin.com/jobs/view/'\n",
    "jobIdUrls = []\n",
    "\n",
    "for jobId in jobIdList:\n",
    "    url = linkedin_url_prefix + jobId\n",
    "    jobIdUrls.append(url)"
   ]
  },
  {
   "cell_type": "code",
   "execution_count": 59,
   "id": "7b405dc2",
   "metadata": {},
   "outputs": [],
   "source": [
    "driver.get(jobIdUrls[0])"
   ]
  },
  {
   "cell_type": "code",
   "execution_count": 60,
   "id": "0cdd286a",
   "metadata": {},
   "outputs": [],
   "source": [
    "driver.close()"
   ]
  },
  {
   "cell_type": "code",
   "execution_count": null,
   "id": "ca1800f4",
   "metadata": {},
   "outputs": [],
   "source": []
  }
 ],
 "metadata": {
  "kernelspec": {
   "display_name": "Python 3 (ipykernel)",
   "language": "python",
   "name": "python3"
  },
  "language_info": {
   "codemirror_mode": {
    "name": "ipython",
    "version": 3
   },
   "file_extension": ".py",
   "mimetype": "text/x-python",
   "name": "python",
   "nbconvert_exporter": "python",
   "pygments_lexer": "ipython3",
   "version": "3.9.2"
  }
 },
 "nbformat": 4,
 "nbformat_minor": 5
}

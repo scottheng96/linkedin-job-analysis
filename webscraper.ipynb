{
 "cells": [
  {
   "cell_type": "code",
   "execution_count": 15,
   "id": "interim-matter",
   "metadata": {},
   "outputs": [],
   "source": [
    "from selenium import webdriver\n",
    "from bs4 import BeautifulSoup"
   ]
  },
  {
   "cell_type": "code",
   "execution_count": 16,
   "id": "numerous-manor",
   "metadata": {},
   "outputs": [],
   "source": [
    "chrome_driver_path = '/Users/scottheng/Projects/linkedin-job-analysis/chromedriver'\n",
    "\n",
    "sf_swe_jobs_url = 'https://www.linkedin.com/jobs/software-engineering-jobs-san-francisco-bay-area/?geoId=90000084'\n",
    "\n",
    "# remove this\n",
    "linkedin_username = ''\n",
    "linkedin_password = ''"
   ]
  },
  {
   "cell_type": "code",
   "execution_count": 17,
   "id": "racial-sleeve",
   "metadata": {},
   "outputs": [],
   "source": [
    "# initialize driver\n",
    "driver = webdriver.Chrome(chrome_driver_path)\n",
    "\n",
    "# connect to linkedin\n",
    "driver.get('https://www.linkedin.com')"
   ]
  },
  {
   "cell_type": "code",
   "execution_count": 18,
   "id": "interim-rebel",
   "metadata": {},
   "outputs": [],
   "source": [
    "elementID = driver.find_element_by_id('session_key')\n",
    "elementID.send_keys(linkedin_username)\n",
    "elementID = driver.find_element_by_id('session_password')\n",
    "elementID.send_keys(linkedin_password)\n",
    "\n",
    "elementID.submit()"
   ]
  },
  {
   "cell_type": "code",
   "execution_count": 22,
   "id": "63db6b2b",
   "metadata": {},
   "outputs": [],
   "source": [
    "driver.get(sf_swe_jobs_url)"
   ]
  },
  {
   "cell_type": "code",
   "execution_count": 23,
   "id": "e1838cb5",
   "metadata": {},
   "outputs": [],
   "source": [
    "# get all jobIds\n",
    "jobSearchResults = driver.find_elements_by_class_name('jobs-search-results__list-item')\n",
    "jobIdList = []\n",
    "\n",
    "for result in jobSearchResults:\n",
    "    attribute = result.get_attribute('data-occludable-entity-urn')\n",
    "    attribute = attribute.split(':')\n",
    "    jobIdList.append(attribute[-1])"
   ]
  },
  {
   "cell_type": "code",
   "execution_count": 28,
   "id": "d90a2a4d",
   "metadata": {},
   "outputs": [],
   "source": [
    "# make jobId URLs\n",
    "linkedin_url_prefix = 'https://www.linkedin.com/jobs/view/'\n",
    "jobIdUrls = []\n",
    "\n",
    "for jobId in jobIdList:\n",
    "    url = linkedin_url_prefix + jobId\n",
    "    jobIdUrls.append(url)"
   ]
  },
  {
   "cell_type": "markdown",
   "id": "bd74c670",
   "metadata": {},
   "source": [
    "- Find jobs across multiple pages (pagination w. Spark)\n",
    "- Make sure search_url is updated"
   ]
  },
  {
   "cell_type": "code",
   "execution_count": 67,
   "id": "7b405dc2",
   "metadata": {},
   "outputs": [],
   "source": [
    "def parseLinkedInData(driver, url):\n",
    "    driver.get(url)\n",
    "    \n",
    "    # first parse\n",
    "    job_title = driver.find_element_by_class_name('t-24')\n",
    "    company_name = driver.find_element_by_id('ember47')\n",
    "    job_location = driver.find_element_by_class_name('jobs-unified-top-card__bullet')\n",
    "    posted_date_relative = driver.find_element_by_class_name('jobs-unified-top-card__posted-date')\n",
    "    applicant_count = driver.find_element_by_class_name('jobs-unified-top-card__applicant-count')\n",
    "    job_insight = driver.find_element_by_class_name('jobs-unified-top-card__job-insight')\n",
    "    job_details = driver.find_element_by_id('job-details')\n",
    "    \n",
    "    # second parse\n",
    "    dataInJson = {\n",
    "        \"job_title\": job_title.text,\n",
    "        \"company_name\": company_name.text,\n",
    "        \"job_location\": job_location.text,\n",
    "        \"applicant_count\": applicant_count.text,\n",
    "        \"job_insight\": job_insight.text,\n",
    "        \"job_details:\": job_details.text\n",
    "    }\n",
    "    return dataInJson"
   ]
  },
  {
   "cell_type": "code",
   "execution_count": 68,
   "id": "c8d21d93",
   "metadata": {},
   "outputs": [
    {
     "ename": "NoSuchElementException",
     "evalue": "Message: no such element: Unable to locate element: {\"method\":\"css selector\",\"selector\":\".jobs-unified-top-card__applicant-count\"}\n  (Session info: chrome=95.0.4638.69)\n",
     "output_type": "error",
     "traceback": [
      "\u001b[0;31m---------------------------------------------------------------------------\u001b[0m",
      "\u001b[0;31mNoSuchElementException\u001b[0m                    Traceback (most recent call last)",
      "\u001b[0;32m/var/folders/fc/rh953l8x5t331hz9jvgv_2lh0000gn/T/ipykernel_40726/98955792.py\u001b[0m in \u001b[0;36m<module>\u001b[0;34m\u001b[0m\n\u001b[1;32m      5\u001b[0m \u001b[0;34m\u001b[0m\u001b[0m\n\u001b[1;32m      6\u001b[0m \u001b[0;32mfor\u001b[0m \u001b[0murl\u001b[0m \u001b[0;32min\u001b[0m \u001b[0mjobIdUrls\u001b[0m\u001b[0;34m:\u001b[0m\u001b[0;34m\u001b[0m\u001b[0;34m\u001b[0m\u001b[0m\n\u001b[0;32m----> 7\u001b[0;31m     \u001b[0mjobData\u001b[0m \u001b[0;34m=\u001b[0m \u001b[0mparseLinkedInData\u001b[0m\u001b[0;34m(\u001b[0m\u001b[0mdriver\u001b[0m\u001b[0;34m,\u001b[0m \u001b[0murl\u001b[0m\u001b[0;34m)\u001b[0m\u001b[0;34m\u001b[0m\u001b[0;34m\u001b[0m\u001b[0m\n\u001b[0m\u001b[1;32m      8\u001b[0m     \u001b[0mtempDict\u001b[0m\u001b[0;34m[\u001b[0m\u001b[0mindexed\u001b[0m\u001b[0;34m]\u001b[0m \u001b[0;34m=\u001b[0m \u001b[0mjobData\u001b[0m\u001b[0;34m\u001b[0m\u001b[0;34m\u001b[0m\u001b[0m\n\u001b[1;32m      9\u001b[0m     \u001b[0mindexed\u001b[0m \u001b[0;34m+=\u001b[0m \u001b[0;36m1\u001b[0m\u001b[0;34m\u001b[0m\u001b[0;34m\u001b[0m\u001b[0m\n",
      "\u001b[0;32m/var/folders/fc/rh953l8x5t331hz9jvgv_2lh0000gn/T/ipykernel_40726/1508290060.py\u001b[0m in \u001b[0;36mparseLinkedInData\u001b[0;34m(driver, url)\u001b[0m\n\u001b[1;32m      7\u001b[0m     \u001b[0mjob_location\u001b[0m \u001b[0;34m=\u001b[0m \u001b[0mdriver\u001b[0m\u001b[0;34m.\u001b[0m\u001b[0mfind_element_by_class_name\u001b[0m\u001b[0;34m(\u001b[0m\u001b[0;34m'jobs-unified-top-card__bullet'\u001b[0m\u001b[0;34m)\u001b[0m\u001b[0;34m\u001b[0m\u001b[0;34m\u001b[0m\u001b[0m\n\u001b[1;32m      8\u001b[0m     \u001b[0mposted_date_relative\u001b[0m \u001b[0;34m=\u001b[0m \u001b[0mdriver\u001b[0m\u001b[0;34m.\u001b[0m\u001b[0mfind_element_by_class_name\u001b[0m\u001b[0;34m(\u001b[0m\u001b[0;34m'jobs-unified-top-card__posted-date'\u001b[0m\u001b[0;34m)\u001b[0m\u001b[0;34m\u001b[0m\u001b[0;34m\u001b[0m\u001b[0m\n\u001b[0;32m----> 9\u001b[0;31m     \u001b[0mapplicant_count\u001b[0m \u001b[0;34m=\u001b[0m \u001b[0mdriver\u001b[0m\u001b[0;34m.\u001b[0m\u001b[0mfind_element_by_class_name\u001b[0m\u001b[0;34m(\u001b[0m\u001b[0;34m'jobs-unified-top-card__applicant-count'\u001b[0m\u001b[0;34m)\u001b[0m\u001b[0;34m\u001b[0m\u001b[0;34m\u001b[0m\u001b[0m\n\u001b[0m\u001b[1;32m     10\u001b[0m     \u001b[0mjob_insight\u001b[0m \u001b[0;34m=\u001b[0m \u001b[0mdriver\u001b[0m\u001b[0;34m.\u001b[0m\u001b[0mfind_element_by_class_name\u001b[0m\u001b[0;34m(\u001b[0m\u001b[0;34m'jobs-unified-top-card__job-insight'\u001b[0m\u001b[0;34m)\u001b[0m\u001b[0;34m\u001b[0m\u001b[0;34m\u001b[0m\u001b[0m\n\u001b[1;32m     11\u001b[0m     \u001b[0mjob_details\u001b[0m \u001b[0;34m=\u001b[0m \u001b[0mdriver\u001b[0m\u001b[0;34m.\u001b[0m\u001b[0mfind_element_by_id\u001b[0m\u001b[0;34m(\u001b[0m\u001b[0;34m'job-details'\u001b[0m\u001b[0;34m)\u001b[0m\u001b[0;34m\u001b[0m\u001b[0;34m\u001b[0m\u001b[0m\n",
      "\u001b[0;32m~/miniforge3/lib/python3.9/site-packages/selenium/webdriver/remote/webdriver.py\u001b[0m in \u001b[0;36mfind_element_by_class_name\u001b[0;34m(self, name)\u001b[0m\n\u001b[1;32m    562\u001b[0m             \u001b[0melement\u001b[0m \u001b[0;34m=\u001b[0m \u001b[0mdriver\u001b[0m\u001b[0;34m.\u001b[0m\u001b[0mfind_element_by_class_name\u001b[0m\u001b[0;34m(\u001b[0m\u001b[0;34m'foo'\u001b[0m\u001b[0;34m)\u001b[0m\u001b[0;34m\u001b[0m\u001b[0;34m\u001b[0m\u001b[0m\n\u001b[1;32m    563\u001b[0m         \"\"\"\n\u001b[0;32m--> 564\u001b[0;31m         \u001b[0;32mreturn\u001b[0m \u001b[0mself\u001b[0m\u001b[0;34m.\u001b[0m\u001b[0mfind_element\u001b[0m\u001b[0;34m(\u001b[0m\u001b[0mby\u001b[0m\u001b[0;34m=\u001b[0m\u001b[0mBy\u001b[0m\u001b[0;34m.\u001b[0m\u001b[0mCLASS_NAME\u001b[0m\u001b[0;34m,\u001b[0m \u001b[0mvalue\u001b[0m\u001b[0;34m=\u001b[0m\u001b[0mname\u001b[0m\u001b[0;34m)\u001b[0m\u001b[0;34m\u001b[0m\u001b[0;34m\u001b[0m\u001b[0m\n\u001b[0m\u001b[1;32m    565\u001b[0m \u001b[0;34m\u001b[0m\u001b[0m\n\u001b[1;32m    566\u001b[0m     \u001b[0;32mdef\u001b[0m \u001b[0mfind_elements_by_class_name\u001b[0m\u001b[0;34m(\u001b[0m\u001b[0mself\u001b[0m\u001b[0;34m,\u001b[0m \u001b[0mname\u001b[0m\u001b[0;34m)\u001b[0m\u001b[0;34m:\u001b[0m\u001b[0;34m\u001b[0m\u001b[0;34m\u001b[0m\u001b[0m\n",
      "\u001b[0;32m~/miniforge3/lib/python3.9/site-packages/selenium/webdriver/remote/webdriver.py\u001b[0m in \u001b[0;36mfind_element\u001b[0;34m(self, by, value)\u001b[0m\n\u001b[1;32m    974\u001b[0m                 \u001b[0mby\u001b[0m \u001b[0;34m=\u001b[0m \u001b[0mBy\u001b[0m\u001b[0;34m.\u001b[0m\u001b[0mCSS_SELECTOR\u001b[0m\u001b[0;34m\u001b[0m\u001b[0;34m\u001b[0m\u001b[0m\n\u001b[1;32m    975\u001b[0m                 \u001b[0mvalue\u001b[0m \u001b[0;34m=\u001b[0m \u001b[0;34m'[name=\"%s\"]'\u001b[0m \u001b[0;34m%\u001b[0m \u001b[0mvalue\u001b[0m\u001b[0;34m\u001b[0m\u001b[0;34m\u001b[0m\u001b[0m\n\u001b[0;32m--> 976\u001b[0;31m         return self.execute(Command.FIND_ELEMENT, {\n\u001b[0m\u001b[1;32m    977\u001b[0m             \u001b[0;34m'using'\u001b[0m\u001b[0;34m:\u001b[0m \u001b[0mby\u001b[0m\u001b[0;34m,\u001b[0m\u001b[0;34m\u001b[0m\u001b[0;34m\u001b[0m\u001b[0m\n\u001b[1;32m    978\u001b[0m             'value': value})['value']\n",
      "\u001b[0;32m~/miniforge3/lib/python3.9/site-packages/selenium/webdriver/remote/webdriver.py\u001b[0m in \u001b[0;36mexecute\u001b[0;34m(self, driver_command, params)\u001b[0m\n\u001b[1;32m    319\u001b[0m         \u001b[0mresponse\u001b[0m \u001b[0;34m=\u001b[0m \u001b[0mself\u001b[0m\u001b[0;34m.\u001b[0m\u001b[0mcommand_executor\u001b[0m\u001b[0;34m.\u001b[0m\u001b[0mexecute\u001b[0m\u001b[0;34m(\u001b[0m\u001b[0mdriver_command\u001b[0m\u001b[0;34m,\u001b[0m \u001b[0mparams\u001b[0m\u001b[0;34m)\u001b[0m\u001b[0;34m\u001b[0m\u001b[0;34m\u001b[0m\u001b[0m\n\u001b[1;32m    320\u001b[0m         \u001b[0;32mif\u001b[0m \u001b[0mresponse\u001b[0m\u001b[0;34m:\u001b[0m\u001b[0;34m\u001b[0m\u001b[0;34m\u001b[0m\u001b[0m\n\u001b[0;32m--> 321\u001b[0;31m             \u001b[0mself\u001b[0m\u001b[0;34m.\u001b[0m\u001b[0merror_handler\u001b[0m\u001b[0;34m.\u001b[0m\u001b[0mcheck_response\u001b[0m\u001b[0;34m(\u001b[0m\u001b[0mresponse\u001b[0m\u001b[0;34m)\u001b[0m\u001b[0;34m\u001b[0m\u001b[0;34m\u001b[0m\u001b[0m\n\u001b[0m\u001b[1;32m    322\u001b[0m             response['value'] = self._unwrap_value(\n\u001b[1;32m    323\u001b[0m                 response.get('value', None))\n",
      "\u001b[0;32m~/miniforge3/lib/python3.9/site-packages/selenium/webdriver/remote/errorhandler.py\u001b[0m in \u001b[0;36mcheck_response\u001b[0;34m(self, response)\u001b[0m\n\u001b[1;32m    240\u001b[0m                 \u001b[0malert_text\u001b[0m \u001b[0;34m=\u001b[0m \u001b[0mvalue\u001b[0m\u001b[0;34m[\u001b[0m\u001b[0;34m'alert'\u001b[0m\u001b[0;34m]\u001b[0m\u001b[0;34m.\u001b[0m\u001b[0mget\u001b[0m\u001b[0;34m(\u001b[0m\u001b[0;34m'text'\u001b[0m\u001b[0;34m)\u001b[0m\u001b[0;34m\u001b[0m\u001b[0;34m\u001b[0m\u001b[0m\n\u001b[1;32m    241\u001b[0m             \u001b[0;32mraise\u001b[0m \u001b[0mexception_class\u001b[0m\u001b[0;34m(\u001b[0m\u001b[0mmessage\u001b[0m\u001b[0;34m,\u001b[0m \u001b[0mscreen\u001b[0m\u001b[0;34m,\u001b[0m \u001b[0mstacktrace\u001b[0m\u001b[0;34m,\u001b[0m \u001b[0malert_text\u001b[0m\u001b[0;34m)\u001b[0m\u001b[0;34m\u001b[0m\u001b[0;34m\u001b[0m\u001b[0m\n\u001b[0;32m--> 242\u001b[0;31m         \u001b[0;32mraise\u001b[0m \u001b[0mexception_class\u001b[0m\u001b[0;34m(\u001b[0m\u001b[0mmessage\u001b[0m\u001b[0;34m,\u001b[0m \u001b[0mscreen\u001b[0m\u001b[0;34m,\u001b[0m \u001b[0mstacktrace\u001b[0m\u001b[0;34m)\u001b[0m\u001b[0;34m\u001b[0m\u001b[0;34m\u001b[0m\u001b[0m\n\u001b[0m\u001b[1;32m    243\u001b[0m \u001b[0;34m\u001b[0m\u001b[0m\n\u001b[1;32m    244\u001b[0m     \u001b[0;32mdef\u001b[0m \u001b[0m_value_or_default\u001b[0m\u001b[0;34m(\u001b[0m\u001b[0mself\u001b[0m\u001b[0;34m,\u001b[0m \u001b[0mobj\u001b[0m\u001b[0;34m,\u001b[0m \u001b[0mkey\u001b[0m\u001b[0;34m,\u001b[0m \u001b[0mdefault\u001b[0m\u001b[0;34m)\u001b[0m\u001b[0;34m:\u001b[0m\u001b[0;34m\u001b[0m\u001b[0;34m\u001b[0m\u001b[0m\n",
      "\u001b[0;31mNoSuchElementException\u001b[0m: Message: no such element: Unable to locate element: {\"method\":\"css selector\",\"selector\":\".jobs-unified-top-card__applicant-count\"}\n  (Session info: chrome=95.0.4638.69)\n"
     ]
    }
   ],
   "source": [
    "# get info from job url\n",
    "\n",
    "indexed = 0\n",
    "tempDict = {}\n",
    "\n",
    "for url in jobIdUrls:\n",
    "    jobData = parseLinkedInData(driver, url)\n",
    "    tempDict[indexed] = jobData\n",
    "    indexed += 1"
   ]
  },
  {
   "cell_type": "code",
   "execution_count": 49,
   "id": "236b2b5f",
   "metadata": {},
   "outputs": [],
   "source": [
    "job_title = driver.find_element_by_class_name('t-24')\n",
    "company_name = driver.find_element_by_id('ember47')\n",
    "job_location = driver.find_element_by_class_name('jobs-unified-top-card__bullet')\n",
    "posted_date_relative = driver.find_element_by_class_name('jobs-unified-top-card__posted-date')\n",
    "applicant_count = driver.find_element_by_class_name('jobs-unified-top-card__applicant-count')\n",
    "job_insight = driver.find_element_by_class_name('jobs-unified-top-card__job-insight')\n",
    "job_details = driver.find_element_by_id('job-details')"
   ]
  },
  {
   "cell_type": "code",
   "execution_count": 62,
   "id": "4df8c494",
   "metadata": {},
   "outputs": [],
   "source": [
    "lists = job_details.find_elements_by_tag_name('li')"
   ]
  },
  {
   "cell_type": "code",
   "execution_count": 63,
   "id": "0cdd286a",
   "metadata": {},
   "outputs": [
    {
     "name": "stdout",
     "output_type": "stream",
     "text": [
      "Your passion about product development, self-driven, highly motivated and you enjoy the independence of managing projects on your own\n",
      "You care about the customer experience and have experience building consumer facing applications\n",
      "Your ability to be collaborative and enjoy working cross-functionally with other engineers, product managers, and designers\n",
      "Diligence, thoughtful, and have great oral and written communication skills\n",
      "Making wise choices and take smart risks when dealing with ambiguous requirements\n",
      "Proactivity and ability to move fast or pivot to meet the changing needs of the product\n",
      "Curiosity about emerging technologies and can quickly evaluate and adapt to new technologies\n",
      "Enjoying problem solving and can use everything from data analysis to command line tools to help you identify and fix issues\n",
      "Front-end software development\n",
      "Engineering team agile process participation\n",
      "BS in Computer Science or related field, or equivalent experience required.\n",
      "Customer-facing experience required.\n",
      "2-3 years of web development experience required\n",
      "REST web API experience strongly preferred\n",
      "Experience building consumer-facing single-page applications in JavaScript\n",
      "Experience developing rich, interactive and well-performing user interfaces using frameworks like React, Angular, Vue\n",
      "Experience building services using REST, GraphQL & WebSockets\n",
      "Practical knowledge and relevant experience deploying web services layers in cloud infrastructure\n",
      "Experience writing unit tests / implementing test driven development processes\n",
      "Domain knowledge/passion in the Customer Focused software deployments\n",
      "Experience with A/B Testing\n",
      "Experience developing services using Apollo GraphQL platform\n",
      "Experience developing applications with WebSocket\n"
     ]
    }
   ],
   "source": []
  },
  {
   "cell_type": "code",
   "execution_count": null,
   "id": "ca1800f4",
   "metadata": {},
   "outputs": [],
   "source": []
  },
  {
   "cell_type": "code",
   "execution_count": 31,
   "id": "b7386e35",
   "metadata": {},
   "outputs": [
    {
     "data": {
      "text/plain": [
       "'https://www.linkedin.com/jobs/view/2788399227'"
      ]
     },
     "execution_count": 31,
     "metadata": {},
     "output_type": "execute_result"
    }
   ],
   "source": [
    "example_job_url"
   ]
  },
  {
   "cell_type": "code",
   "execution_count": null,
   "id": "02b1cdfa",
   "metadata": {},
   "outputs": [],
   "source": []
  }
 ],
 "metadata": {
  "kernelspec": {
   "display_name": "Python 3 (ipykernel)",
   "language": "python",
   "name": "python3"
  },
  "language_info": {
   "codemirror_mode": {
    "name": "ipython",
    "version": 3
   },
   "file_extension": ".py",
   "mimetype": "text/x-python",
   "name": "python",
   "nbconvert_exporter": "python",
   "pygments_lexer": "ipython3",
   "version": "3.9.2"
  }
 },
 "nbformat": 4,
 "nbformat_minor": 5
}

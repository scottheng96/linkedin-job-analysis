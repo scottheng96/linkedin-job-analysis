{
 "cells": [
  {
   "cell_type": "code",
   "execution_count": 26,
   "id": "interim-matter",
   "metadata": {},
   "outputs": [],
   "source": [
    "from selenium import webdriver\n",
    "from bs4 import BeautifulSoup\n",
    "import pandas as pd"
   ]
  },
  {
   "cell_type": "code",
   "execution_count": 27,
   "id": "numerous-manor",
   "metadata": {},
   "outputs": [],
   "source": [
    "chrome_driver_path = '/Users/scottheng/Projects/linkedin-job-analysis/chromedriver'\n",
    "\n",
    "sf_swe_jobs_url = 'https://www.linkedin.com/jobs/software-engineering-jobs-san-francisco-bay-area/?geoId=90000084'\n",
    "\n",
    "# remove this\n",
    "linkedin_username = ''\n",
    "linkedin_password = ''"
   ]
  },
  {
   "cell_type": "code",
   "execution_count": 28,
   "id": "racial-sleeve",
   "metadata": {},
   "outputs": [],
   "source": [
    "# initialize driver\n",
    "driver = webdriver.Chrome(chrome_driver_path)\n",
    "\n",
    "# connect to linkedin\n",
    "driver.get('https://www.linkedin.com')"
   ]
  },
  {
   "cell_type": "code",
   "execution_count": 29,
   "id": "interim-rebel",
   "metadata": {},
   "outputs": [],
   "source": [
    "elementID = driver.find_element_by_id('session_key')\n",
    "elementID.send_keys(linkedin_username)\n",
    "elementID = driver.find_element_by_id('session_password')\n",
    "elementID.send_keys(linkedin_password)\n",
    "\n",
    "elementID.submit()"
   ]
  },
  {
   "cell_type": "code",
   "execution_count": 30,
   "id": "63db6b2b",
   "metadata": {},
   "outputs": [],
   "source": [
    "driver.get(sf_swe_jobs_url)"
   ]
  },
  {
   "cell_type": "code",
   "execution_count": 32,
   "id": "e1838cb5",
   "metadata": {},
   "outputs": [],
   "source": [
    "# get all jobIds\n",
    "jobSearchResults = driver.find_elements_by_class_name('jobs-search-results__list-item')\n",
    "jobIdList = []\n",
    "\n",
    "for result in jobSearchResults:\n",
    "    attribute = result.get_attribute('data-occludable-entity-urn')\n",
    "    attribute = attribute.split(':')\n",
    "    jobIdList.append(attribute[-1])"
   ]
  },
  {
   "cell_type": "code",
   "execution_count": 33,
   "id": "d90a2a4d",
   "metadata": {},
   "outputs": [],
   "source": [
    "# make jobId URLs\n",
    "linkedin_url_prefix = 'https://www.linkedin.com/jobs/view/'\n",
    "jobIdUrls = []\n",
    "\n",
    "for jobId in jobIdList:\n",
    "    url = linkedin_url_prefix + jobId\n",
    "    jobIdUrls.append(url)"
   ]
  },
  {
   "cell_type": "markdown",
   "id": "bd74c670",
   "metadata": {},
   "source": [
    "- Find jobs across multiple pages (pagination w. Spark)\n",
    "- Make sure search_url is updated"
   ]
  },
  {
   "cell_type": "code",
   "execution_count": 34,
   "id": "1ca59cef",
   "metadata": {},
   "outputs": [],
   "source": [
    "attributeMap = {\n",
    "    'job_title': ('class_name','t-24'),\n",
    "    'company_name': ('id','ember47'),\n",
    "    'job_location': ('class_name','jobs-unified-top-card__bullet'),\n",
    "    'posted_date_relative': ('class_name','jobs-unified-top-card__posted-date'),\n",
    "    'applicant_count': ('class_name','jobs-unified-top-card__applicant-count'),\n",
    "    'job_insight': ('class_name','jobs-unified-top-card__job-insight'),\n",
    "    'job_details': ('id','job-details')\n",
    "}\n",
    "\n",
    "# gets the attribute web element (after url has been visited) and returns text or empty\n",
    "def getWebElementTextFromDriver(driver, attribute):\n",
    "    attribute_mapping = attributeMap[attribute]\n",
    "    try:\n",
    "        if attribute_mapping[0] == 'class_name':\n",
    "            webElement = driver.find_element_by_class_name(attribute_mapping[1])\n",
    "        elif attribute_mapping[0] == 'id':\n",
    "            webElement = driver.find_element_by_id(attribute_mapping[1])\n",
    "        return webElement.text\n",
    "    \n",
    "    except:\n",
    "        return ''\n",
    "\n",
    "def parseLinkedInData(driver, url, attributeMap):\n",
    "    driver.get(url)\n",
    "    data = {}\n",
    "    \n",
    "    for attribute in attributeMap:\n",
    "        data[attribute] = getWebElementTextFromDriver(driver,attribute)\n",
    "        \n",
    "    return data"
   ]
  },
  {
   "cell_type": "code",
   "execution_count": 36,
   "id": "c8d21d93",
   "metadata": {},
   "outputs": [],
   "source": [
    "# get info from job url\n",
    "index = 0\n",
    "dataList = []\n",
    "\n",
    "for url in jobIdUrls:\n",
    "    jobData = parseLinkedInData(driver, url, attributeMap)\n",
    "    dataList.append(jobData)"
   ]
  },
  {
   "cell_type": "code",
   "execution_count": 39,
   "id": "236b2b5f",
   "metadata": {},
   "outputs": [],
   "source": [
    "# create pandas dataframe\n",
    "\n",
    "# initialize\n",
    "df = pd.DataFrame()\n",
    "\n",
    "for entry in dataList:\n",
    "    df = df.append(entry, ignore_index=True)"
   ]
  },
  {
   "cell_type": "code",
   "execution_count": 41,
   "id": "4df8c494",
   "metadata": {},
   "outputs": [],
   "source": [
    "# save to csv\n",
    "csv_file = df.to_csv('linkedin_data')"
   ]
  },
  {
   "cell_type": "code",
   "execution_count": null,
   "id": "0cdd286a",
   "metadata": {},
   "outputs": [],
   "source": []
  },
  {
   "cell_type": "code",
   "execution_count": null,
   "id": "ca1800f4",
   "metadata": {},
   "outputs": [],
   "source": []
  },
  {
   "cell_type": "code",
   "execution_count": null,
   "id": "b7386e35",
   "metadata": {},
   "outputs": [],
   "source": []
  },
  {
   "cell_type": "code",
   "execution_count": null,
   "id": "02b1cdfa",
   "metadata": {},
   "outputs": [],
   "source": []
  }
 ],
 "metadata": {
  "kernelspec": {
   "display_name": "Python 3 (ipykernel)",
   "language": "python",
   "name": "python3"
  },
  "language_info": {
   "codemirror_mode": {
    "name": "ipython",
    "version": 3
   },
   "file_extension": ".py",
   "mimetype": "text/x-python",
   "name": "python",
   "nbconvert_exporter": "python",
   "pygments_lexer": "ipython3",
   "version": "3.9.2"
  }
 },
 "nbformat": 4,
 "nbformat_minor": 5
}
